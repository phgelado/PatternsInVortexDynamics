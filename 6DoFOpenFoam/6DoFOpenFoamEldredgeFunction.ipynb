{
 "cells": [
  {
   "cell_type": "markdown",
   "metadata": {},
   "source": [
    "## Generating OpenFoam 6DoF Files\n",
    "\n",
    "This Jupyter notebook will show you how to generate a simple 6 degree of freedom kinematic file for OpenFoam. The data file we will generate specifies the magnitude and direction of motion for a series of time points. \n",
    "\n",
    "It is a combination of a linear displacement vector and a rotation vector about the specified center of gravity (CofG) of the object, which is defined on the dynamicMeshDict file. \n",
    "\n",
    "This data file is later linearly interpolated by OpenFoam when running your CFD simulation, so your time points do not need to match exactly the timesteps you have set in OpenFoam. However, more time points will smooth your dynamics, increasing the accuracy of your simulation, specially if, as seen in the case below, you have a sinusoidal or other non-linear motion. \n",
    "\n",
    "The format of the data file we want to create for OpenFoam is shown below:\n",
    "\n",
    " 4 //number of data points in the file\n",
    " //Position formatting is not important.  File is based on the character sequence only.\n",
    " //Vectors are not relative.  Each vector is total displacement and total rotation.\n",
    " \n",
    " (\n",
    " \n",
    " //(time_point ( (linear displacement vector)      (rotation vector roll-yaw-pitch) ) )\n",
    " \n",
    " //(seconds    ( (following unit system, usually meters)   (degrees) ) )\n",
    " \n",
    " (0            ( (0.25 0.50 1.0)                   (0.220 0.30 0.40) ) )    \n",
    " (0.25         ( (0.50 1.0 2.0)                    (0.60 0.60 0.60) ) )    \n",
    " (0.75         ( (0.75 5.0 1.0)                    (1.2 2.4 5.0) ) )    \n",
    " (10.0         ( (0.1 6.0 1.0)                   (5.0 3.0 5.5) ) )    \n",
    " )\n",
    " \n",
    "Each time point first specifies the reference time, and the following bracket groups contains the motion, first linear and then angular displacement in their own lists.\n"
   ]
  },
  {
   "cell_type": "markdown",
   "metadata": {},
   "source": [
    "We will begin by importing the libraries we need: Numpy, Pandas, MatPlotLib to visualize our output, OS to import paths, and IPython to clean up our display. "
   ]
  },
  {
   "cell_type": "code",
   "execution_count": 20,
   "metadata": {},
   "outputs": [],
   "source": [
    "import numpy as np\n",
    "import pandas as pd\n",
    "import matplotlib.pyplot as plt\n",
    "import os\n",
    "from IPython.display import clear_output"
   ]
  },
  {
   "cell_type": "markdown",
   "metadata": {},
   "source": [
    "We will now add our parameters for the kinematics. In this case we are making an Eldredge function pure pitch movement, for 5 periods. The geometric angle of attack (our pitch angle) will be 45 degrees. It is a 2D motion, so most of our degrees of freedom are actually just going to be 0.  "
   ]
  },
  {
   "cell_type": "code",
   "execution_count": 21,
   "metadata": {},
   "outputs": [],
   "source": [
    "numberofperiods = 5\n",
    "alphaGeoAmp = 45\n",
    "\n",
    "period = 3.801279221\n",
    "resolution = 1000 #this is our time resolution, the number of data points our file will have"
   ]
  },
  {
   "cell_type": "markdown",
   "metadata": {},
   "source": [
    "We are going to be saving this file as \"eldredge.dat\""
   ]
  },
  {
   "cell_type": "code",
   "execution_count": 22,
   "metadata": {},
   "outputs": [],
   "source": [
    "#outputfile\n",
    "outputfilename = os.getcwd()\n",
    "outputfilename += '/eldredge.dat'"
   ]
  },
  {
   "cell_type": "markdown",
   "metadata": {},
   "source": [
    "We generate our time vector by using the numpy function linspace, with our set resolution"
   ]
  },
  {
   "cell_type": "code",
   "execution_count": 23,
   "metadata": {},
   "outputs": [],
   "source": [
    "#time\n",
    "time = np.linspace(0,period*numberofperiods,resolution)"
   ]
  },
  {
   "cell_type": "markdown",
   "metadata": {},
   "source": [
    "And now it's just a question of creating our X,Y and Z vectors for our linear and rotational displacement. We will store them in a Pandas DataFrame (our motion matrix)."
   ]
  },
  {
   "cell_type": "markdown",
   "metadata": {},
   "source": [
    "The Eldredge function is defined as:"
   ]
  },
  {
   "cell_type": "code",
   "execution_count": 24,
   "metadata": {},
   "outputs": [],
   "source": [
    "def EldRampUp(amp,K,a,t):\n",
    "    sm = np.pi*np.pi*K/(2*(amp)*(1 - a))\n",
    "    t1 = 1.\n",
    "    t2 = t1 + ((amp)/(2*K))\n",
    "    return ((K/sm)*np.log(np.cosh(sm*(t - t1))/np.cosh(sm*(t - t2))))+(amp/2)"
   ]
  },
  {
   "cell_type": "code",
   "execution_count": 25,
   "metadata": {},
   "outputs": [],
   "source": [
    "#linear displacement\n",
    "linearDisplacement = pd.DataFrame(data=time,columns={'Time'})\n",
    "linearDisplacement['X'] = 0\n",
    "linearDisplacement['Y'] = 0\n",
    "linearDisplacement['Z'] = 0\n",
    "\n",
    "#rotational displacement\n",
    "rotationalDisplacement = pd.DataFrame(data=time,columns={'Time'})\n",
    "rotationalDisplacement['phi'] = 0\n",
    "rotationalDisplacement['psi'] = 0\n",
    "rotationalDisplacement['theta'] = -EldRampUp(45*np.pi/180,0.4,0.8,time)"
   ]
  },
  {
   "cell_type": "code",
   "execution_count": 26,
   "metadata": {},
   "outputs": [
    {
     "data": {
      "text/plain": [
       "numpy.ndarray"
      ]
     },
     "execution_count": 26,
     "metadata": {},
     "output_type": "execute_result"
    }
   ],
   "source": [
    "type(EldRampUp(45*np.pi/180,0.4,0.8,time))"
   ]
  },
  {
   "cell_type": "code",
   "execution_count": 27,
   "metadata": {},
   "outputs": [
    {
     "data": {
      "text/html": [
       "<div>\n",
       "<style scoped>\n",
       "    .dataframe tbody tr th:only-of-type {\n",
       "        vertical-align: middle;\n",
       "    }\n",
       "\n",
       "    .dataframe tbody tr th {\n",
       "        vertical-align: top;\n",
       "    }\n",
       "\n",
       "    .dataframe thead th {\n",
       "        text-align: right;\n",
       "    }\n",
       "</style>\n",
       "<table border=\"1\" class=\"dataframe\">\n",
       "  <thead>\n",
       "    <tr style=\"text-align: right;\">\n",
       "      <th></th>\n",
       "      <th>Time</th>\n",
       "      <th>X</th>\n",
       "      <th>Y</th>\n",
       "      <th>Z</th>\n",
       "    </tr>\n",
       "  </thead>\n",
       "  <tbody>\n",
       "    <tr>\n",
       "      <th>0</th>\n",
       "      <td>0.000000</td>\n",
       "      <td>0</td>\n",
       "      <td>0</td>\n",
       "      <td>0</td>\n",
       "    </tr>\n",
       "    <tr>\n",
       "      <th>1</th>\n",
       "      <td>0.019025</td>\n",
       "      <td>0</td>\n",
       "      <td>0</td>\n",
       "      <td>0</td>\n",
       "    </tr>\n",
       "    <tr>\n",
       "      <th>2</th>\n",
       "      <td>0.038051</td>\n",
       "      <td>0</td>\n",
       "      <td>0</td>\n",
       "      <td>0</td>\n",
       "    </tr>\n",
       "    <tr>\n",
       "      <th>3</th>\n",
       "      <td>0.057076</td>\n",
       "      <td>0</td>\n",
       "      <td>0</td>\n",
       "      <td>0</td>\n",
       "    </tr>\n",
       "    <tr>\n",
       "      <th>4</th>\n",
       "      <td>0.076102</td>\n",
       "      <td>0</td>\n",
       "      <td>0</td>\n",
       "      <td>0</td>\n",
       "    </tr>\n",
       "    <tr>\n",
       "      <th>...</th>\n",
       "      <td>...</td>\n",
       "      <td>...</td>\n",
       "      <td>...</td>\n",
       "      <td>...</td>\n",
       "    </tr>\n",
       "    <tr>\n",
       "      <th>995</th>\n",
       "      <td>18.930294</td>\n",
       "      <td>0</td>\n",
       "      <td>0</td>\n",
       "      <td>0</td>\n",
       "    </tr>\n",
       "    <tr>\n",
       "      <th>996</th>\n",
       "      <td>18.949320</td>\n",
       "      <td>0</td>\n",
       "      <td>0</td>\n",
       "      <td>0</td>\n",
       "    </tr>\n",
       "    <tr>\n",
       "      <th>997</th>\n",
       "      <td>18.968345</td>\n",
       "      <td>0</td>\n",
       "      <td>0</td>\n",
       "      <td>0</td>\n",
       "    </tr>\n",
       "    <tr>\n",
       "      <th>998</th>\n",
       "      <td>18.987371</td>\n",
       "      <td>0</td>\n",
       "      <td>0</td>\n",
       "      <td>0</td>\n",
       "    </tr>\n",
       "    <tr>\n",
       "      <th>999</th>\n",
       "      <td>19.006396</td>\n",
       "      <td>0</td>\n",
       "      <td>0</td>\n",
       "      <td>0</td>\n",
       "    </tr>\n",
       "  </tbody>\n",
       "</table>\n",
       "<p>1000 rows × 4 columns</p>\n",
       "</div>"
      ],
      "text/plain": [
       "          Time  X  Y  Z\n",
       "0     0.000000  0  0  0\n",
       "1     0.019025  0  0  0\n",
       "2     0.038051  0  0  0\n",
       "3     0.057076  0  0  0\n",
       "4     0.076102  0  0  0\n",
       "..         ... .. .. ..\n",
       "995  18.930294  0  0  0\n",
       "996  18.949320  0  0  0\n",
       "997  18.968345  0  0  0\n",
       "998  18.987371  0  0  0\n",
       "999  19.006396  0  0  0\n",
       "\n",
       "[1000 rows x 4 columns]"
      ]
     },
     "execution_count": 27,
     "metadata": {},
     "output_type": "execute_result"
    }
   ],
   "source": [
    "linearDisplacement"
   ]
  },
  {
   "cell_type": "code",
   "execution_count": 28,
   "metadata": {},
   "outputs": [
    {
     "data": {
      "text/html": [
       "<div>\n",
       "<style scoped>\n",
       "    .dataframe tbody tr th:only-of-type {\n",
       "        vertical-align: middle;\n",
       "    }\n",
       "\n",
       "    .dataframe tbody tr th {\n",
       "        vertical-align: top;\n",
       "    }\n",
       "\n",
       "    .dataframe thead th {\n",
       "        text-align: right;\n",
       "    }\n",
       "</style>\n",
       "<table border=\"1\" class=\"dataframe\">\n",
       "  <thead>\n",
       "    <tr style=\"text-align: right;\">\n",
       "      <th></th>\n",
       "      <th>Time</th>\n",
       "      <th>phi</th>\n",
       "      <th>psi</th>\n",
       "      <th>theta</th>\n",
       "    </tr>\n",
       "  </thead>\n",
       "  <tbody>\n",
       "    <tr>\n",
       "      <th>0</th>\n",
       "      <td>0.000000</td>\n",
       "      <td>0</td>\n",
       "      <td>0</td>\n",
       "      <td>-3.870237e-13</td>\n",
       "    </tr>\n",
       "    <tr>\n",
       "      <th>1</th>\n",
       "      <td>0.019025</td>\n",
       "      <td>0</td>\n",
       "      <td>0</td>\n",
       "      <td>-6.243339e-13</td>\n",
       "    </tr>\n",
       "    <tr>\n",
       "      <th>2</th>\n",
       "      <td>0.038051</td>\n",
       "      <td>0</td>\n",
       "      <td>0</td>\n",
       "      <td>-1.007305e-12</td>\n",
       "    </tr>\n",
       "    <tr>\n",
       "      <th>3</th>\n",
       "      <td>0.057076</td>\n",
       "      <td>0</td>\n",
       "      <td>0</td>\n",
       "      <td>-1.624867e-12</td>\n",
       "    </tr>\n",
       "    <tr>\n",
       "      <th>4</th>\n",
       "      <td>0.076102</td>\n",
       "      <td>0</td>\n",
       "      <td>0</td>\n",
       "      <td>-2.621015e-12</td>\n",
       "    </tr>\n",
       "    <tr>\n",
       "      <th>...</th>\n",
       "      <td>...</td>\n",
       "      <td>...</td>\n",
       "      <td>...</td>\n",
       "      <td>...</td>\n",
       "    </tr>\n",
       "    <tr>\n",
       "      <th>995</th>\n",
       "      <td>18.930294</td>\n",
       "      <td>0</td>\n",
       "      <td>0</td>\n",
       "      <td>-7.853982e-01</td>\n",
       "    </tr>\n",
       "    <tr>\n",
       "      <th>996</th>\n",
       "      <td>18.949320</td>\n",
       "      <td>0</td>\n",
       "      <td>0</td>\n",
       "      <td>-7.853982e-01</td>\n",
       "    </tr>\n",
       "    <tr>\n",
       "      <th>997</th>\n",
       "      <td>18.968345</td>\n",
       "      <td>0</td>\n",
       "      <td>0</td>\n",
       "      <td>-7.853982e-01</td>\n",
       "    </tr>\n",
       "    <tr>\n",
       "      <th>998</th>\n",
       "      <td>18.987371</td>\n",
       "      <td>0</td>\n",
       "      <td>0</td>\n",
       "      <td>-7.853982e-01</td>\n",
       "    </tr>\n",
       "    <tr>\n",
       "      <th>999</th>\n",
       "      <td>19.006396</td>\n",
       "      <td>0</td>\n",
       "      <td>0</td>\n",
       "      <td>-7.853982e-01</td>\n",
       "    </tr>\n",
       "  </tbody>\n",
       "</table>\n",
       "<p>1000 rows × 4 columns</p>\n",
       "</div>"
      ],
      "text/plain": [
       "          Time  phi  psi         theta\n",
       "0     0.000000    0    0 -3.870237e-13\n",
       "1     0.019025    0    0 -6.243339e-13\n",
       "2     0.038051    0    0 -1.007305e-12\n",
       "3     0.057076    0    0 -1.624867e-12\n",
       "4     0.076102    0    0 -2.621015e-12\n",
       "..         ...  ...  ...           ...\n",
       "995  18.930294    0    0 -7.853982e-01\n",
       "996  18.949320    0    0 -7.853982e-01\n",
       "997  18.968345    0    0 -7.853982e-01\n",
       "998  18.987371    0    0 -7.853982e-01\n",
       "999  19.006396    0    0 -7.853982e-01\n",
       "\n",
       "[1000 rows x 4 columns]"
      ]
     },
     "execution_count": 28,
     "metadata": {},
     "output_type": "execute_result"
    }
   ],
   "source": [
    "rotationalDisplacement"
   ]
  },
  {
   "cell_type": "markdown",
   "metadata": {},
   "source": [
    "Finally we can save our motion file, adding our different brackets and required formatting as per OpenFoam's requirements. We will use the f.write file writer, and build each line with a for loop. "
   ]
  },
  {
   "cell_type": "code",
   "execution_count": 35,
   "metadata": {},
   "outputs": [
    {
     "data": {
      "text/plain": [
       "1"
      ]
     },
     "execution_count": 35,
     "metadata": {},
     "output_type": "execute_result"
    }
   ],
   "source": [
    "#saving motion file\n",
    "\n",
    "f= open(outputfilename,\"w+\")\n",
    "\n",
    "f.write(str(resolution) + '\\n(\\n')\n",
    "\n",
    "i = 0\n",
    "\n",
    "for i in range(0, len(linearDisplacement)):\n",
    "    \n",
    "    line = '('\n",
    "    line += str(linearDisplacement['Time'].iloc[i])\n",
    "    line += '(('\n",
    "    line += str(linearDisplacement['X'].iloc[i])\n",
    "    line += ' '\n",
    "    line += str(linearDisplacement['Y'].iloc[i])\n",
    "    line += ' '\n",
    "    line += str(linearDisplacement['Z'].iloc[i])\n",
    "    line += ')('\n",
    "    line += str(rotationalDisplacement['phi'].iloc[i])\n",
    "    line += ' '\n",
    "    line += str(rotationalDisplacement['psi'].iloc[i])\n",
    "    line += ' '\n",
    "    line += str(rotationalDisplacement['theta'].iloc[i])\n",
    "    line += ')))\\n'\n",
    "    \n",
    "    f.write(line)\n",
    "    \n",
    "    i = i + 1\n",
    "    \n",
    "    if i%1000==0: #this is a tiny add-on I like to use as a test and map progress\n",
    "        print('Completing save ',round(i/resolution*100,2), '%')\n",
    "        clear_output(wait=True)\n",
    "            \n",
    "f.write(')')\n"
   ]
  },
  {
   "cell_type": "markdown",
   "metadata": {},
   "source": [
    "We will now plot our linear displacement to double check our motion: "
   ]
  },
  {
   "cell_type": "code",
   "execution_count": 30,
   "metadata": {},
   "outputs": [
    {
     "data": {
      "text/plain": [
       "Text(0.5, 1.0, 'Linear Displacement against non-dimensional time')"
      ]
     },
     "execution_count": 30,
     "metadata": {},
     "output_type": "execute_result"
    },
    {
     "data": {
      "image/png": "[encoded data removed]",
      "text/plain": [
       "<Figure size 432x288 with 1 Axes>"
      ]
     },
     "metadata": {
      "needs_background": "light"
     },
     "output_type": "display_data"
    }
   ],
   "source": [
    "plt.plot(linearDisplacement['Time']/period, linearDisplacement['Y'])\n",
    "plt.xlim(0,numberofperiods)\n",
    "plt.ylabel(\"Linear Displacement /m\")\n",
    "plt.xlabel(\"t/T\")\n",
    "plt.title(\"Linear Displacement against non-dimensional time\")"
   ]
  },
  {
   "cell_type": "markdown",
   "metadata": {},
   "source": [
    "And now our rotational displacement:"
   ]
  },
  {
   "cell_type": "code",
   "execution_count": 31,
   "metadata": {},
   "outputs": [
    {
     "data": {
      "text/plain": [
       "Text(0.5, 1.0, 'Angular displacement against time')"
      ]
     },
     "execution_count": 31,
     "metadata": {},
     "output_type": "execute_result"
    },
    {
     "data": {
      "image/png": "[encoded data removed]",
      "text/plain": [
       "<Figure size 432x288 with 1 Axes>"
      ]
     },
     "metadata": {
      "needs_background": "light"
     },
     "output_type": "display_data"
    }
   ],
   "source": [
    "plt.plot(rotationalDisplacement['Time'],rotationalDisplacement['theta'])\n",
    "plt.xlim(0,numberofperiods*period)\n",
    "plt.ylabel(\"Angular displacement /rad\")\n",
    "plt.xlabel(\"t/T\")\n",
    "plt.title(\"Angular displacement against time\")"
   ]
  },
  {
   "cell_type": "code",
   "execution_count": null,
   "metadata": {},
   "outputs": [],
   "source": []
  }
 ],
 "metadata": {
  "kernelspec": {
   "display_name": "Python 3 (ipykernel)",
   "language": "python",
   "name": "python3"
  },
  "language_info": {
   "codemirror_mode": {
    "name": "ipython",
    "version": 3
   },
   "file_extension": ".py",
   "mimetype": "text/x-python",
   "name": "python",
   "nbconvert_exporter": "python",
   "pygments_lexer": "ipython3",
   "version": "3.9.7"
  }
 },
 "nbformat": 4,
 "nbformat_minor": 2
}
